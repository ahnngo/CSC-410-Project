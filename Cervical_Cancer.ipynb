{
 "cells": [
  {
   "cell_type": "code",
   "execution_count": 1,
   "metadata": {
    "id": "udHtkVrkrmG7"
   },
   "outputs": [],
   "source": [
    "import math\n",
    "import numpy as np\n",
    "import tensorflow as tf\n",
    "import pandas as pd\n",
    "import matplotlib.pyplot as plt\n",
    "from tensorflow import keras\n",
    "from tensorflow.keras.callbacks import EarlyStopping\n",
    "from sklearn.model_selection import cross_val_score\n",
    "import seaborn as sns\n",
    "from sklearn.metrics import recall_score\n",
    "from sklearn.metrics import accuracy_score\n",
    "from sklearn.metrics import precision_score\n",
    "\n",
    "from collections import Counter\n",
    "from sklearn.datasets import make_classification\n",
    "from imblearn.over_sampling import BorderlineSMOTE\n",
    "from numpy import where\n",
    "from sklearn.tree import DecisionTreeClassifier\n",
    "from sklearn.svm import SVC\n",
    "from sklearn.neighbors import KNeighborsClassifier\n",
    "from sklearn.linear_model import LogisticRegression\n",
    "from sklearn.ensemble import RandomForestClassifier\n",
    "from sklearn.model_selection import cross_val_score\n",
    "from sklearn.model_selection import GridSearchCV\n",
    "from sklearn.naive_bayes import GaussianNB\n",
    "from sklearn.metrics import accuracy_score, confusion_matrix, classification_report, precision_score, f1_score, recall_score\n",
    "from sklearn.ensemble import ExtraTreesClassifier\n",
    "from sklearn.feature_selection import SelectFromModel"
   ]
  },
  {
   "cell_type": "code",
   "execution_count": 2,
   "metadata": {
    "colab": {
     "base_uri": "https://localhost:8080/"
    },
    "id": "48NOg1QNrn0B",
    "outputId": "bdf88de8-debc-44ed-e199-6c26526f2698"
   },
   "outputs": [
    {
     "name": "stdout",
     "output_type": "stream",
     "text": [
      "\n",
      "No of Samples: 856 and No of Features: 26\n"
     ]
    }
   ],
   "source": [
    "df = pd.read_csv('Clean Data.csv')\n",
    "df1 = pd.DataFrame(df)\n",
    "\n",
    "samples,attributes = df1.shape\n",
    "print('\\nNo of Samples: {0} and No of Features: {1}'.format(samples,attributes))"
   ]
  },
  {
   "cell_type": "code",
   "execution_count": 3,
   "metadata": {
    "colab": {
     "base_uri": "https://localhost:8080/",
     "height": 508
    },
    "id": "H_zjBrdRr0HR",
    "outputId": "de142bec-30e6-4e6c-9b53-6ff822a324a0"
   },
   "outputs": [
    {
     "data": {
      "text/html": [
       "<div>\n",
       "<style scoped>\n",
       "    .dataframe tbody tr th:only-of-type {\n",
       "        vertical-align: middle;\n",
       "    }\n",
       "\n",
       "    .dataframe tbody tr th {\n",
       "        vertical-align: top;\n",
       "    }\n",
       "\n",
       "    .dataframe thead th {\n",
       "        text-align: right;\n",
       "    }\n",
       "</style>\n",
       "<table border=\"1\" class=\"dataframe\">\n",
       "  <thead>\n",
       "    <tr style=\"text-align: right;\">\n",
       "      <th></th>\n",
       "      <th>Unnamed: 0</th>\n",
       "      <th>Age</th>\n",
       "      <th>Number of sexual partners</th>\n",
       "      <th>First sexual intercourse</th>\n",
       "      <th>Num of pregnancies</th>\n",
       "      <th>Smokes</th>\n",
       "      <th>Smokes (years)</th>\n",
       "      <th>Smokes (packs/year)</th>\n",
       "      <th>Hormonal Contraceptives</th>\n",
       "      <th>Hormonal Contraceptives (years)</th>\n",
       "      <th>...</th>\n",
       "      <th>STDs:HIV</th>\n",
       "      <th>STDs: Number of diagnosis</th>\n",
       "      <th>Dx:Cancer</th>\n",
       "      <th>Dx:CIN</th>\n",
       "      <th>Dx:HPV</th>\n",
       "      <th>Dx</th>\n",
       "      <th>Hinselmann</th>\n",
       "      <th>Schiller</th>\n",
       "      <th>Citology</th>\n",
       "      <th>Biopsy</th>\n",
       "    </tr>\n",
       "  </thead>\n",
       "  <tbody>\n",
       "    <tr>\n",
       "      <th>0</th>\n",
       "      <td>0</td>\n",
       "      <td>18</td>\n",
       "      <td>4.0</td>\n",
       "      <td>15.0</td>\n",
       "      <td>1.0</td>\n",
       "      <td>0.0</td>\n",
       "      <td>0.00</td>\n",
       "      <td>0.0</td>\n",
       "      <td>0.0</td>\n",
       "      <td>0.0</td>\n",
       "      <td>...</td>\n",
       "      <td>0.0</td>\n",
       "      <td>0</td>\n",
       "      <td>0</td>\n",
       "      <td>0</td>\n",
       "      <td>0</td>\n",
       "      <td>0</td>\n",
       "      <td>0</td>\n",
       "      <td>0</td>\n",
       "      <td>0</td>\n",
       "      <td>0</td>\n",
       "    </tr>\n",
       "    <tr>\n",
       "      <th>1</th>\n",
       "      <td>1</td>\n",
       "      <td>15</td>\n",
       "      <td>1.0</td>\n",
       "      <td>14.0</td>\n",
       "      <td>1.0</td>\n",
       "      <td>0.0</td>\n",
       "      <td>0.00</td>\n",
       "      <td>0.0</td>\n",
       "      <td>0.0</td>\n",
       "      <td>0.0</td>\n",
       "      <td>...</td>\n",
       "      <td>0.0</td>\n",
       "      <td>0</td>\n",
       "      <td>0</td>\n",
       "      <td>0</td>\n",
       "      <td>0</td>\n",
       "      <td>0</td>\n",
       "      <td>0</td>\n",
       "      <td>0</td>\n",
       "      <td>0</td>\n",
       "      <td>0</td>\n",
       "    </tr>\n",
       "    <tr>\n",
       "      <th>2</th>\n",
       "      <td>2</td>\n",
       "      <td>34</td>\n",
       "      <td>1.0</td>\n",
       "      <td>17.0</td>\n",
       "      <td>1.0</td>\n",
       "      <td>0.0</td>\n",
       "      <td>0.00</td>\n",
       "      <td>0.0</td>\n",
       "      <td>0.0</td>\n",
       "      <td>0.0</td>\n",
       "      <td>...</td>\n",
       "      <td>0.0</td>\n",
       "      <td>0</td>\n",
       "      <td>0</td>\n",
       "      <td>0</td>\n",
       "      <td>0</td>\n",
       "      <td>0</td>\n",
       "      <td>0</td>\n",
       "      <td>0</td>\n",
       "      <td>0</td>\n",
       "      <td>0</td>\n",
       "    </tr>\n",
       "    <tr>\n",
       "      <th>3</th>\n",
       "      <td>3</td>\n",
       "      <td>52</td>\n",
       "      <td>5.0</td>\n",
       "      <td>16.0</td>\n",
       "      <td>4.0</td>\n",
       "      <td>1.0</td>\n",
       "      <td>37.00</td>\n",
       "      <td>37.0</td>\n",
       "      <td>1.0</td>\n",
       "      <td>3.0</td>\n",
       "      <td>...</td>\n",
       "      <td>0.0</td>\n",
       "      <td>0</td>\n",
       "      <td>1</td>\n",
       "      <td>0</td>\n",
       "      <td>1</td>\n",
       "      <td>0</td>\n",
       "      <td>0</td>\n",
       "      <td>0</td>\n",
       "      <td>0</td>\n",
       "      <td>0</td>\n",
       "    </tr>\n",
       "    <tr>\n",
       "      <th>4</th>\n",
       "      <td>4</td>\n",
       "      <td>46</td>\n",
       "      <td>3.0</td>\n",
       "      <td>21.0</td>\n",
       "      <td>4.0</td>\n",
       "      <td>0.0</td>\n",
       "      <td>0.00</td>\n",
       "      <td>0.0</td>\n",
       "      <td>1.0</td>\n",
       "      <td>15.0</td>\n",
       "      <td>...</td>\n",
       "      <td>0.0</td>\n",
       "      <td>0</td>\n",
       "      <td>0</td>\n",
       "      <td>0</td>\n",
       "      <td>0</td>\n",
       "      <td>0</td>\n",
       "      <td>0</td>\n",
       "      <td>0</td>\n",
       "      <td>0</td>\n",
       "      <td>0</td>\n",
       "    </tr>\n",
       "    <tr>\n",
       "      <th>5</th>\n",
       "      <td>5</td>\n",
       "      <td>42</td>\n",
       "      <td>3.0</td>\n",
       "      <td>23.0</td>\n",
       "      <td>2.0</td>\n",
       "      <td>0.0</td>\n",
       "      <td>0.00</td>\n",
       "      <td>0.0</td>\n",
       "      <td>0.0</td>\n",
       "      <td>0.0</td>\n",
       "      <td>...</td>\n",
       "      <td>0.0</td>\n",
       "      <td>0</td>\n",
       "      <td>0</td>\n",
       "      <td>0</td>\n",
       "      <td>0</td>\n",
       "      <td>0</td>\n",
       "      <td>0</td>\n",
       "      <td>0</td>\n",
       "      <td>0</td>\n",
       "      <td>0</td>\n",
       "    </tr>\n",
       "    <tr>\n",
       "      <th>6</th>\n",
       "      <td>6</td>\n",
       "      <td>51</td>\n",
       "      <td>3.0</td>\n",
       "      <td>17.0</td>\n",
       "      <td>6.0</td>\n",
       "      <td>1.0</td>\n",
       "      <td>34.00</td>\n",
       "      <td>3.4</td>\n",
       "      <td>0.0</td>\n",
       "      <td>0.0</td>\n",
       "      <td>...</td>\n",
       "      <td>0.0</td>\n",
       "      <td>0</td>\n",
       "      <td>0</td>\n",
       "      <td>0</td>\n",
       "      <td>0</td>\n",
       "      <td>0</td>\n",
       "      <td>1</td>\n",
       "      <td>1</td>\n",
       "      <td>0</td>\n",
       "      <td>1</td>\n",
       "    </tr>\n",
       "    <tr>\n",
       "      <th>7</th>\n",
       "      <td>7</td>\n",
       "      <td>26</td>\n",
       "      <td>1.0</td>\n",
       "      <td>26.0</td>\n",
       "      <td>3.0</td>\n",
       "      <td>0.0</td>\n",
       "      <td>0.00</td>\n",
       "      <td>0.0</td>\n",
       "      <td>1.0</td>\n",
       "      <td>2.0</td>\n",
       "      <td>...</td>\n",
       "      <td>0.0</td>\n",
       "      <td>0</td>\n",
       "      <td>0</td>\n",
       "      <td>0</td>\n",
       "      <td>0</td>\n",
       "      <td>0</td>\n",
       "      <td>0</td>\n",
       "      <td>0</td>\n",
       "      <td>0</td>\n",
       "      <td>0</td>\n",
       "    </tr>\n",
       "    <tr>\n",
       "      <th>8</th>\n",
       "      <td>8</td>\n",
       "      <td>45</td>\n",
       "      <td>1.0</td>\n",
       "      <td>20.0</td>\n",
       "      <td>5.0</td>\n",
       "      <td>0.0</td>\n",
       "      <td>0.00</td>\n",
       "      <td>0.0</td>\n",
       "      <td>0.0</td>\n",
       "      <td>0.0</td>\n",
       "      <td>...</td>\n",
       "      <td>0.0</td>\n",
       "      <td>0</td>\n",
       "      <td>1</td>\n",
       "      <td>0</td>\n",
       "      <td>1</td>\n",
       "      <td>1</td>\n",
       "      <td>0</td>\n",
       "      <td>0</td>\n",
       "      <td>0</td>\n",
       "      <td>0</td>\n",
       "    </tr>\n",
       "    <tr>\n",
       "      <th>9</th>\n",
       "      <td>9</td>\n",
       "      <td>44</td>\n",
       "      <td>3.0</td>\n",
       "      <td>15.0</td>\n",
       "      <td>2.0</td>\n",
       "      <td>1.0</td>\n",
       "      <td>1.27</td>\n",
       "      <td>2.8</td>\n",
       "      <td>0.0</td>\n",
       "      <td>0.0</td>\n",
       "      <td>...</td>\n",
       "      <td>0.0</td>\n",
       "      <td>0</td>\n",
       "      <td>0</td>\n",
       "      <td>0</td>\n",
       "      <td>0</td>\n",
       "      <td>0</td>\n",
       "      <td>0</td>\n",
       "      <td>0</td>\n",
       "      <td>0</td>\n",
       "      <td>0</td>\n",
       "    </tr>\n",
       "  </tbody>\n",
       "</table>\n",
       "<p>10 rows × 26 columns</p>\n",
       "</div>"
      ],
      "text/plain": [
       "   Unnamed: 0  Age  Number of sexual partners  First sexual intercourse  \\\n",
       "0           0   18                        4.0                      15.0   \n",
       "1           1   15                        1.0                      14.0   \n",
       "2           2   34                        1.0                      17.0   \n",
       "3           3   52                        5.0                      16.0   \n",
       "4           4   46                        3.0                      21.0   \n",
       "5           5   42                        3.0                      23.0   \n",
       "6           6   51                        3.0                      17.0   \n",
       "7           7   26                        1.0                      26.0   \n",
       "8           8   45                        1.0                      20.0   \n",
       "9           9   44                        3.0                      15.0   \n",
       "\n",
       "   Num of pregnancies  Smokes  Smokes (years)  Smokes (packs/year)  \\\n",
       "0                 1.0     0.0            0.00                  0.0   \n",
       "1                 1.0     0.0            0.00                  0.0   \n",
       "2                 1.0     0.0            0.00                  0.0   \n",
       "3                 4.0     1.0           37.00                 37.0   \n",
       "4                 4.0     0.0            0.00                  0.0   \n",
       "5                 2.0     0.0            0.00                  0.0   \n",
       "6                 6.0     1.0           34.00                  3.4   \n",
       "7                 3.0     0.0            0.00                  0.0   \n",
       "8                 5.0     0.0            0.00                  0.0   \n",
       "9                 2.0     1.0            1.27                  2.8   \n",
       "\n",
       "   Hormonal Contraceptives  Hormonal Contraceptives (years)  ...  STDs:HIV  \\\n",
       "0                      0.0                              0.0  ...       0.0   \n",
       "1                      0.0                              0.0  ...       0.0   \n",
       "2                      0.0                              0.0  ...       0.0   \n",
       "3                      1.0                              3.0  ...       0.0   \n",
       "4                      1.0                             15.0  ...       0.0   \n",
       "5                      0.0                              0.0  ...       0.0   \n",
       "6                      0.0                              0.0  ...       0.0   \n",
       "7                      1.0                              2.0  ...       0.0   \n",
       "8                      0.0                              0.0  ...       0.0   \n",
       "9                      0.0                              0.0  ...       0.0   \n",
       "\n",
       "   STDs: Number of diagnosis  Dx:Cancer  Dx:CIN  Dx:HPV  Dx  Hinselmann  \\\n",
       "0                          0          0       0       0   0           0   \n",
       "1                          0          0       0       0   0           0   \n",
       "2                          0          0       0       0   0           0   \n",
       "3                          0          1       0       1   0           0   \n",
       "4                          0          0       0       0   0           0   \n",
       "5                          0          0       0       0   0           0   \n",
       "6                          0          0       0       0   0           1   \n",
       "7                          0          0       0       0   0           0   \n",
       "8                          0          1       0       1   1           0   \n",
       "9                          0          0       0       0   0           0   \n",
       "\n",
       "   Schiller  Citology  Biopsy  \n",
       "0         0         0       0  \n",
       "1         0         0       0  \n",
       "2         0         0       0  \n",
       "3         0         0       0  \n",
       "4         0         0       0  \n",
       "5         0         0       0  \n",
       "6         1         0       1  \n",
       "7         0         0       0  \n",
       "8         0         0       0  \n",
       "9         0         0       0  \n",
       "\n",
       "[10 rows x 26 columns]"
      ]
     },
     "execution_count": 3,
     "metadata": {},
     "output_type": "execute_result"
    }
   ],
   "source": [
    "df1.head(10)"
   ]
  },
  {
   "cell_type": "code",
   "execution_count": 4,
   "metadata": {
    "id": "4SSs83Tzm--0"
   },
   "outputs": [],
   "source": [
    "df1.drop('Unnamed: 0',inplace=True,axis=1)"
   ]
  },
  {
   "cell_type": "code",
   "execution_count": 5,
   "metadata": {
    "colab": {
     "base_uri": "https://localhost:8080/"
    },
    "id": "ybzx6hx-r-zQ",
    "outputId": "16623387-a0ee-40e8-a398-496164b69ce4"
   },
   "outputs": [
    {
     "name": "stdout",
     "output_type": "stream",
     "text": [
      "\n",
      "Columns in Dataframe and their Imported Data Type:\n",
      "\n",
      "Column 1 is 'Age' and of data type: int64\n",
      "Column 2 is 'Number of sexual partners' and of data type: float64\n",
      "Column 3 is 'First sexual intercourse' and of data type: float64\n",
      "Column 4 is 'Num of pregnancies' and of data type: float64\n",
      "Column 5 is 'Smokes' and of data type: float64\n",
      "Column 6 is 'Smokes (years)' and of data type: float64\n",
      "Column 7 is 'Smokes (packs/year)' and of data type: float64\n",
      "Column 8 is 'Hormonal Contraceptives' and of data type: float64\n",
      "Column 9 is 'Hormonal Contraceptives (years)' and of data type: float64\n",
      "Column 10 is 'IUD' and of data type: float64\n",
      "Column 11 is 'IUD (years)' and of data type: float64\n",
      "Column 12 is 'STDs' and of data type: float64\n",
      "Column 13 is 'STDs (number)' and of data type: int64\n",
      "Column 14 is 'STDs:condylomatosis' and of data type: float64\n",
      "Column 15 is 'STDs:syphilis' and of data type: float64\n",
      "Column 16 is 'STDs:HIV' and of data type: float64\n",
      "Column 17 is 'STDs: Number of diagnosis' and of data type: int64\n",
      "Column 18 is 'Dx:Cancer' and of data type: int64\n",
      "Column 19 is 'Dx:CIN' and of data type: int64\n",
      "Column 20 is 'Dx:HPV' and of data type: int64\n",
      "Column 21 is 'Dx' and of data type: int64\n",
      "Column 22 is 'Hinselmann' and of data type: int64\n",
      "Column 23 is 'Schiller' and of data type: int64\n",
      "Column 24 is 'Citology' and of data type: int64\n",
      "Column 25 is 'Biopsy' and of data type: int64\n"
     ]
    }
   ],
   "source": [
    "attributeList = df1.columns\n",
    "\n",
    "print('\\nColumns in Dataframe and their Imported Data Type:\\n')\n",
    "for i in range(len(attributeList.values)):\n",
    "    print('Column {0} is \\'{1}\\' and of data type: {2}'.format(i+1,attributeList.values[i],df1[attributeList.values[i]].dtype))"
   ]
  },
  {
   "cell_type": "code",
   "execution_count": 6,
   "metadata": {
    "colab": {
     "base_uri": "https://localhost:8080/"
    },
    "id": "BXlgZfI6sDDL",
    "outputId": "4464f959-3b2c-404a-f773-118506417527"
   },
   "outputs": [
    {
     "name": "stdout",
     "output_type": "stream",
     "text": [
      "\n",
      "The mean of the dataframe is:\n",
      "\n",
      " Age                                26.835280\n",
      "Number of sexual partners           2.467290\n",
      "First sexual intercourse           17.004673\n",
      "Num of pregnancies                  2.259346\n",
      "Smokes                              0.142523\n",
      "Smokes (years)                      1.198259\n",
      "Smokes (packs/year)                 0.441402\n",
      "Hormonal Contraceptives             0.657710\n",
      "Hormonal Contraceptives (years)     2.300911\n",
      "IUD                                 0.108645\n",
      "IUD (years)                         0.499381\n",
      "STDs                                0.091121\n",
      "STDs (number)                       0.153037\n",
      "STDs:condylomatosis                 0.050234\n",
      "STDs:syphilis                       0.021028\n",
      "STDs:HIV                            0.021028\n",
      "STDs: Number of diagnosis           0.086449\n",
      "Dx:Cancer                           0.021028\n",
      "Dx:CIN                              0.010514\n",
      "Dx:HPV                              0.021028\n",
      "Dx                                  0.028037\n",
      "Hinselmann                          0.040888\n",
      "Schiller                            0.086449\n",
      "Citology                            0.051402\n",
      "Biopsy                              0.064252\n",
      "dtype: float64\n",
      "\n",
      "The median of the dataframe is:\n",
      "\n",
      " Age                                25.00\n",
      "Number of sexual partners           2.00\n",
      "First sexual intercourse           17.00\n",
      "Num of pregnancies                  2.00\n",
      "Smokes                              0.00\n",
      "Smokes (years)                      0.00\n",
      "Smokes (packs/year)                 0.00\n",
      "Hormonal Contraceptives             1.00\n",
      "Hormonal Contraceptives (years)     0.66\n",
      "IUD                                 0.00\n",
      "IUD (years)                         0.00\n",
      "STDs                                0.00\n",
      "STDs (number)                       0.00\n",
      "STDs:condylomatosis                 0.00\n",
      "STDs:syphilis                       0.00\n",
      "STDs:HIV                            0.00\n",
      "STDs: Number of diagnosis           0.00\n",
      "Dx:Cancer                           0.00\n",
      "Dx:CIN                              0.00\n",
      "Dx:HPV                              0.00\n",
      "Dx                                  0.00\n",
      "Hinselmann                          0.00\n",
      "Schiller                            0.00\n",
      "Citology                            0.00\n",
      "Biopsy                              0.00\n",
      "dtype: float64\n",
      "\n",
      "The mode of the dataframe is:\n",
      "\n",
      "    Age  Number of sexual partners  First sexual intercourse  \\\n",
      "0   23                        2.0                      15.0   \n",
      "\n",
      "   Num of pregnancies  Smokes  Smokes (years)  Smokes (packs/year)  \\\n",
      "0                 2.0     0.0             0.0                  0.0   \n",
      "\n",
      "   Hormonal Contraceptives  Hormonal Contraceptives (years)  IUD  ...  \\\n",
      "0                      1.0                              0.0  0.0  ...   \n",
      "\n",
      "   STDs:HIV  STDs: Number of diagnosis  Dx:Cancer  Dx:CIN  Dx:HPV  Dx  \\\n",
      "0       0.0                          0          0       0       0   0   \n",
      "\n",
      "   Hinselmann  Schiller  Citology  Biopsy  \n",
      "0           0         0         0       0  \n",
      "\n",
      "[1 rows x 25 columns]\n"
     ]
    }
   ],
   "source": [
    "print(f\"\\nThe mean of the dataframe is:\\n\\n {df1.mean()}\")\n",
    "print(f\"\\nThe median of the dataframe is:\\n\\n {df1.median()}\")\n",
    "print(f\"\\nThe mode of the dataframe is:\\n\\n {df1.mode()}\")"
   ]
  },
  {
   "cell_type": "code",
   "execution_count": 7,
   "metadata": {
    "colab": {
     "base_uri": "https://localhost:8080/"
    },
    "id": "AzWkcgX3sHHg",
    "outputId": "d4ba0e7f-7b64-4588-c181-5906db646887"
   },
   "outputs": [
    {
     "name": "stdout",
     "output_type": "stream",
     "text": [
      "\n",
      "~~Checking for Samples with Missing Data~~\n",
      "\n",
      "Total Number of Samples is: 856 \n",
      "\n",
      "\n",
      "No of Columns that have missing values: 0\n"
     ]
    }
   ],
   "source": [
    "#Check How many attributes are missing information\n",
    "\n",
    "print('\\n~~Checking for Samples with Missing Data~~\\n')\n",
    "print('Total Number of Samples is:',samples,'\\n')\n",
    "attributesWithMissingValues=0\n",
    "# incomeDataFrame=incomeDataFrame.replace('?',pd.NA)\n",
    "\n",
    "for i in range(len(attributeList)):\n",
    "    dataCount = df1[attributeList[i]].count()\n",
    "    if samples-dataCount>0:\n",
    "        print(\"No of Samples in data set with missing attribute '{0}' are: {1}\".format(attributeList[i],samples-dataCount))\n",
    "        attributesWithMissingValues+=1\n",
    "\n",
    "print(\"\\nNo of Columns that have missing values:\",attributesWithMissingValues)"
   ]
  },
  {
   "cell_type": "code",
   "execution_count": 8,
   "metadata": {
    "colab": {
     "base_uri": "https://localhost:8080/"
    },
    "id": "KfKdtaUhsJlJ",
    "outputId": "94dd04a9-5000-48b1-bb70-2dfe3a8a474c"
   },
   "outputs": [
    {
     "data": {
      "text/plain": [
       "Age                                  int64\n",
       "Number of sexual partners          float64\n",
       "First sexual intercourse           float64\n",
       "Num of pregnancies                 float64\n",
       "Smokes                             float64\n",
       "Smokes (years)                     float64\n",
       "Smokes (packs/year)                float64\n",
       "Hormonal Contraceptives            float64\n",
       "Hormonal Contraceptives (years)    float64\n",
       "IUD                                float64\n",
       "IUD (years)                        float64\n",
       "STDs                               float64\n",
       "STDs (number)                        int64\n",
       "STDs:condylomatosis                float64\n",
       "STDs:syphilis                      float64\n",
       "STDs:HIV                           float64\n",
       "STDs: Number of diagnosis            int64\n",
       "Dx:Cancer                            int64\n",
       "Dx:CIN                               int64\n",
       "Dx:HPV                               int64\n",
       "Dx                                   int64\n",
       "Hinselmann                           int64\n",
       "Schiller                             int64\n",
       "Citology                             int64\n",
       "Biopsy                               int64\n",
       "dtype: object"
      ]
     },
     "execution_count": 8,
     "metadata": {},
     "output_type": "execute_result"
    }
   ],
   "source": [
    "df1.dtypes"
   ]
  },
  {
   "cell_type": "code",
   "execution_count": 9,
   "metadata": {
    "colab": {
     "base_uri": "https://localhost:8080/",
     "height": 497
    },
    "id": "WJRy5oYJsMQ0",
    "outputId": "b9a07bb3-e998-4f54-b231-35c251fb28ea"
   },
   "outputs": [
    {
     "data": {
      "image/png": "[encoded data removed]",
      "text/plain": [
       "<Figure size 1152x576 with 1 Axes>"
      ]
     },
     "metadata": {
      "needs_background": "light"
     },
     "output_type": "display_data"
    }
   ],
   "source": [
    "# d=df1['Num of pregnancies'].value_counts()\n",
    "# d1=df1['STDs: Number of diagnosis'].value_counts()\n",
    "# x=d1.values\n",
    "# y=d.values\n",
    "\n",
    "d=df1['Num of pregnancies'].value_counts()\n",
    "x=d.index.values\n",
    "y=d.values\n",
    "\n",
    "plt.figure(figsize=(16,8))\n",
    "plt.bar(x,y,label='Migraine Type')\n",
    "plt.xlabel('Number of Pregnancies')\n",
    "plt.ylabel('No of Samples')\n",
    "plt.legend()\n",
    "plt.show()"
   ]
  },
  {
   "cell_type": "code",
   "execution_count": 10,
   "metadata": {
    "colab": {
     "base_uri": "https://localhost:8080/",
     "height": 515
    },
    "id": "GBn-ACL6sO_n",
    "outputId": "676cea40-1373-4f18-de96-aa7908947d55"
   },
   "outputs": [
    {
     "data": {
      "text/plain": [
       "<AxesSubplot:xlabel='Number of sexual partners', ylabel='Hormonal Contraceptives'>"
      ]
     },
     "execution_count": 10,
     "metadata": {},
     "output_type": "execute_result"
    },
    {
     "data": {
      "image/png": "[encoded data removed]",
      "text/plain": [
       "<Figure size 1152x576 with 1 Axes>"
      ]
     },
     "metadata": {
      "needs_background": "light"
     },
     "output_type": "display_data"
    }
   ],
   "source": [
    "plt.figure(figsize=(16,8))\n",
    "sns.boxplot(x=df1['Number of sexual partners'], y= df1['Hormonal Contraceptives'], data=df1)"
   ]
  },
  {
   "cell_type": "code",
   "execution_count": 11,
   "metadata": {
    "colab": {
     "base_uri": "https://localhost:8080/"
    },
    "id": "BmRdpkVKuYCN",
    "outputId": "69368ad6-987e-482c-d479-ba3b886954d7"
   },
   "outputs": [
    {
     "data": {
      "text/plain": [
       "False"
      ]
     },
     "execution_count": 11,
     "metadata": {},
     "output_type": "execute_result"
    }
   ],
   "source": [
    "df1.isnull().values.any().any()"
   ]
  },
  {
   "cell_type": "code",
   "execution_count": 12,
   "metadata": {
    "colab": {
     "base_uri": "https://localhost:8080/",
     "height": 353
    },
    "id": "KJfc7zUYudlR",
    "outputId": "f0dd7440-0a31-4483-a4dc-1866a45ee060"
   },
   "outputs": [
    {
     "name": "stderr",
     "output_type": "stream",
     "text": [
      "C:\\Users\\ngoa\\Anaconda3\\lib\\site-packages\\seaborn\\_decorators.py:36: FutureWarning: Pass the following variable as a keyword arg: x. From version 0.12, the only valid positional argument will be `data`, and passing other arguments without an explicit keyword will result in an error or misinterpretation.\n",
      "  warnings.warn(\n"
     ]
    },
    {
     "data": {
      "text/plain": [
       "<AxesSubplot:xlabel='Hinselmann', ylabel='count'>"
      ]
     },
     "execution_count": 12,
     "metadata": {},
     "output_type": "execute_result"
    },
    {
     "data": {
      "image/png": "[encoded data removed]",
      "text/plain": [
       "<Figure size 432x288 with 1 Axes>"
      ]
     },
     "metadata": {
      "needs_background": "light"
     },
     "output_type": "display_data"
    }
   ],
   "source": [
    "sns.countplot(df1['Hinselmann'])\n"
   ]
  },
  {
   "cell_type": "code",
   "execution_count": 13,
   "metadata": {
    "colab": {
     "base_uri": "https://localhost:8080/"
    },
    "id": "1dONGKXSHe_L",
    "outputId": "3f369008-a37c-465e-e29a-1e092811107d"
   },
   "outputs": [
    {
     "data": {
      "text/plain": [
       "(856, 25)"
      ]
     },
     "execution_count": 13,
     "metadata": {},
     "output_type": "execute_result"
    }
   ],
   "source": [
    "df1.shape"
   ]
  },
  {
   "cell_type": "code",
   "execution_count": 14,
   "metadata": {
    "id": "Vw4IsV4PWGqp"
   },
   "outputs": [],
   "source": [
    "X=df1.drop(['Hinselmann','Schiller','Citology','Biopsy'],axis=1)\n",
    "Y1=df1['Hinselmann']"
   ]
  },
  {
   "cell_type": "code",
   "execution_count": 15,
   "metadata": {
    "colab": {
     "base_uri": "https://localhost:8080/"
    },
    "id": "CUzTIud8jntn",
    "outputId": "61fc4ad6-d7be-4a72-96b0-a584714938e4"
   },
   "outputs": [
    {
     "name": "stdout",
     "output_type": "stream",
     "text": [
      "<class 'pandas.core.frame.DataFrame'>\n"
     ]
    }
   ],
   "source": [
    "col_names = pd.concat([X, Y1], axis=1).columns.tolist()\n",
    "# transform the dataset\n",
    "oversample = BorderlineSMOTE()\n",
    "X, Y1 = oversample.fit_resample(X, Y1)\n",
    "print(type(X))\n",
    "\n",
    "df_= pd.concat([X, Y1], axis=1)\n",
    "# smote_array = np.concatenate([X, Y1.reshape(-1, 1)], axis=1)\n",
    "# df_ = pd.DataFrame(smote_array,columns=col_names)\n",
    "# # clf = ExtraTreesClassifier(n_estimators=50)\n",
    "# clf = clf.fit(X, Y1)\n",
    "\n",
    "# features = ['Age', 'Number of sexual partners', 'First sexual intercourse',\n",
    "#     'Num of pregnancies', 'Smokes', 'Smokes (years)', 'Smokes (packs/year)',\n",
    "#     'Hormonal Contraceptives', 'Hormonal Contraceptives (years)', 'IUD',\n",
    "#     'IUD (years)', 'STDs', 'STDs (number)', 'STDs:condylomatosis',\n",
    "#     'STDs:syphilis', 'STDs:HIV', 'STDs: Number of diagnosis', 'Dx:Cancer',\n",
    "#     'Dx:CIN', 'Dx:HPV', 'Dx']\n",
    "\n",
    "# feat_importances = pd.Series(clf.feature_importances_, index=features)\n",
    "\n",
    "# print(feat_importances.sort_values())"
   ]
  },
  {
   "cell_type": "code",
   "execution_count": 16,
   "metadata": {
    "colab": {
     "base_uri": "https://localhost:8080/"
    },
    "id": "tKQuiQvktQ7Y",
    "outputId": "26fe1632-a51c-4d69-d779-e07f5dd7f73c"
   },
   "outputs": [
    {
     "data": {
      "text/plain": [
       "(1642, 22)"
      ]
     },
     "execution_count": 16,
     "metadata": {},
     "output_type": "execute_result"
    }
   ],
   "source": [
    "df_.shape"
   ]
  },
  {
   "cell_type": "code",
   "execution_count": 17,
   "metadata": {
    "colab": {
     "base_uri": "https://localhost:8080/",
     "height": 508
    },
    "id": "A9rcDBVEq7k3",
    "outputId": "02c386a0-9c08-49d9-ef42-f393d0d51831"
   },
   "outputs": [
    {
     "data": {
      "text/html": [
       "<div>\n",
       "<style scoped>\n",
       "    .dataframe tbody tr th:only-of-type {\n",
       "        vertical-align: middle;\n",
       "    }\n",
       "\n",
       "    .dataframe tbody tr th {\n",
       "        vertical-align: top;\n",
       "    }\n",
       "\n",
       "    .dataframe thead th {\n",
       "        text-align: right;\n",
       "    }\n",
       "</style>\n",
       "<table border=\"1\" class=\"dataframe\">\n",
       "  <thead>\n",
       "    <tr style=\"text-align: right;\">\n",
       "      <th></th>\n",
       "      <th>Age</th>\n",
       "      <th>Number of sexual partners</th>\n",
       "      <th>First sexual intercourse</th>\n",
       "      <th>Num of pregnancies</th>\n",
       "      <th>Smokes</th>\n",
       "      <th>Smokes (years)</th>\n",
       "      <th>Smokes (packs/year)</th>\n",
       "      <th>Hormonal Contraceptives</th>\n",
       "      <th>Hormonal Contraceptives (years)</th>\n",
       "      <th>IUD</th>\n",
       "      <th>...</th>\n",
       "      <th>STDs (number)</th>\n",
       "      <th>STDs:condylomatosis</th>\n",
       "      <th>STDs:syphilis</th>\n",
       "      <th>STDs:HIV</th>\n",
       "      <th>STDs: Number of diagnosis</th>\n",
       "      <th>Dx:Cancer</th>\n",
       "      <th>Dx:CIN</th>\n",
       "      <th>Dx:HPV</th>\n",
       "      <th>Dx</th>\n",
       "      <th>Hinselmann</th>\n",
       "    </tr>\n",
       "  </thead>\n",
       "  <tbody>\n",
       "    <tr>\n",
       "      <th>0</th>\n",
       "      <td>18</td>\n",
       "      <td>4.0</td>\n",
       "      <td>15.0</td>\n",
       "      <td>1.0</td>\n",
       "      <td>0.0</td>\n",
       "      <td>0.00</td>\n",
       "      <td>0.0</td>\n",
       "      <td>0.0</td>\n",
       "      <td>0.0</td>\n",
       "      <td>0.0</td>\n",
       "      <td>...</td>\n",
       "      <td>0</td>\n",
       "      <td>0.0</td>\n",
       "      <td>0.0</td>\n",
       "      <td>0.0</td>\n",
       "      <td>0</td>\n",
       "      <td>0</td>\n",
       "      <td>0</td>\n",
       "      <td>0</td>\n",
       "      <td>0</td>\n",
       "      <td>0</td>\n",
       "    </tr>\n",
       "    <tr>\n",
       "      <th>1</th>\n",
       "      <td>15</td>\n",
       "      <td>1.0</td>\n",
       "      <td>14.0</td>\n",
       "      <td>1.0</td>\n",
       "      <td>0.0</td>\n",
       "      <td>0.00</td>\n",
       "      <td>0.0</td>\n",
       "      <td>0.0</td>\n",
       "      <td>0.0</td>\n",
       "      <td>0.0</td>\n",
       "      <td>...</td>\n",
       "      <td>0</td>\n",
       "      <td>0.0</td>\n",
       "      <td>0.0</td>\n",
       "      <td>0.0</td>\n",
       "      <td>0</td>\n",
       "      <td>0</td>\n",
       "      <td>0</td>\n",
       "      <td>0</td>\n",
       "      <td>0</td>\n",
       "      <td>0</td>\n",
       "    </tr>\n",
       "    <tr>\n",
       "      <th>2</th>\n",
       "      <td>34</td>\n",
       "      <td>1.0</td>\n",
       "      <td>17.0</td>\n",
       "      <td>1.0</td>\n",
       "      <td>0.0</td>\n",
       "      <td>0.00</td>\n",
       "      <td>0.0</td>\n",
       "      <td>0.0</td>\n",
       "      <td>0.0</td>\n",
       "      <td>0.0</td>\n",
       "      <td>...</td>\n",
       "      <td>0</td>\n",
       "      <td>0.0</td>\n",
       "      <td>0.0</td>\n",
       "      <td>0.0</td>\n",
       "      <td>0</td>\n",
       "      <td>0</td>\n",
       "      <td>0</td>\n",
       "      <td>0</td>\n",
       "      <td>0</td>\n",
       "      <td>0</td>\n",
       "    </tr>\n",
       "    <tr>\n",
       "      <th>3</th>\n",
       "      <td>52</td>\n",
       "      <td>5.0</td>\n",
       "      <td>16.0</td>\n",
       "      <td>4.0</td>\n",
       "      <td>1.0</td>\n",
       "      <td>37.00</td>\n",
       "      <td>37.0</td>\n",
       "      <td>1.0</td>\n",
       "      <td>3.0</td>\n",
       "      <td>0.0</td>\n",
       "      <td>...</td>\n",
       "      <td>0</td>\n",
       "      <td>0.0</td>\n",
       "      <td>0.0</td>\n",
       "      <td>0.0</td>\n",
       "      <td>0</td>\n",
       "      <td>1</td>\n",
       "      <td>0</td>\n",
       "      <td>1</td>\n",
       "      <td>0</td>\n",
       "      <td>0</td>\n",
       "    </tr>\n",
       "    <tr>\n",
       "      <th>4</th>\n",
       "      <td>46</td>\n",
       "      <td>3.0</td>\n",
       "      <td>21.0</td>\n",
       "      <td>4.0</td>\n",
       "      <td>0.0</td>\n",
       "      <td>0.00</td>\n",
       "      <td>0.0</td>\n",
       "      <td>1.0</td>\n",
       "      <td>15.0</td>\n",
       "      <td>0.0</td>\n",
       "      <td>...</td>\n",
       "      <td>0</td>\n",
       "      <td>0.0</td>\n",
       "      <td>0.0</td>\n",
       "      <td>0.0</td>\n",
       "      <td>0</td>\n",
       "      <td>0</td>\n",
       "      <td>0</td>\n",
       "      <td>0</td>\n",
       "      <td>0</td>\n",
       "      <td>0</td>\n",
       "    </tr>\n",
       "    <tr>\n",
       "      <th>5</th>\n",
       "      <td>42</td>\n",
       "      <td>3.0</td>\n",
       "      <td>23.0</td>\n",
       "      <td>2.0</td>\n",
       "      <td>0.0</td>\n",
       "      <td>0.00</td>\n",
       "      <td>0.0</td>\n",
       "      <td>0.0</td>\n",
       "      <td>0.0</td>\n",
       "      <td>0.0</td>\n",
       "      <td>...</td>\n",
       "      <td>0</td>\n",
       "      <td>0.0</td>\n",
       "      <td>0.0</td>\n",
       "      <td>0.0</td>\n",
       "      <td>0</td>\n",
       "      <td>0</td>\n",
       "      <td>0</td>\n",
       "      <td>0</td>\n",
       "      <td>0</td>\n",
       "      <td>0</td>\n",
       "    </tr>\n",
       "    <tr>\n",
       "      <th>6</th>\n",
       "      <td>51</td>\n",
       "      <td>3.0</td>\n",
       "      <td>17.0</td>\n",
       "      <td>6.0</td>\n",
       "      <td>1.0</td>\n",
       "      <td>34.00</td>\n",
       "      <td>3.4</td>\n",
       "      <td>0.0</td>\n",
       "      <td>0.0</td>\n",
       "      <td>1.0</td>\n",
       "      <td>...</td>\n",
       "      <td>0</td>\n",
       "      <td>0.0</td>\n",
       "      <td>0.0</td>\n",
       "      <td>0.0</td>\n",
       "      <td>0</td>\n",
       "      <td>0</td>\n",
       "      <td>0</td>\n",
       "      <td>0</td>\n",
       "      <td>0</td>\n",
       "      <td>1</td>\n",
       "    </tr>\n",
       "    <tr>\n",
       "      <th>7</th>\n",
       "      <td>26</td>\n",
       "      <td>1.0</td>\n",
       "      <td>26.0</td>\n",
       "      <td>3.0</td>\n",
       "      <td>0.0</td>\n",
       "      <td>0.00</td>\n",
       "      <td>0.0</td>\n",
       "      <td>1.0</td>\n",
       "      <td>2.0</td>\n",
       "      <td>1.0</td>\n",
       "      <td>...</td>\n",
       "      <td>0</td>\n",
       "      <td>0.0</td>\n",
       "      <td>0.0</td>\n",
       "      <td>0.0</td>\n",
       "      <td>0</td>\n",
       "      <td>0</td>\n",
       "      <td>0</td>\n",
       "      <td>0</td>\n",
       "      <td>0</td>\n",
       "      <td>0</td>\n",
       "    </tr>\n",
       "    <tr>\n",
       "      <th>8</th>\n",
       "      <td>45</td>\n",
       "      <td>1.0</td>\n",
       "      <td>20.0</td>\n",
       "      <td>5.0</td>\n",
       "      <td>0.0</td>\n",
       "      <td>0.00</td>\n",
       "      <td>0.0</td>\n",
       "      <td>0.0</td>\n",
       "      <td>0.0</td>\n",
       "      <td>0.0</td>\n",
       "      <td>...</td>\n",
       "      <td>0</td>\n",
       "      <td>0.0</td>\n",
       "      <td>0.0</td>\n",
       "      <td>0.0</td>\n",
       "      <td>0</td>\n",
       "      <td>1</td>\n",
       "      <td>0</td>\n",
       "      <td>1</td>\n",
       "      <td>1</td>\n",
       "      <td>0</td>\n",
       "    </tr>\n",
       "    <tr>\n",
       "      <th>9</th>\n",
       "      <td>44</td>\n",
       "      <td>3.0</td>\n",
       "      <td>15.0</td>\n",
       "      <td>2.0</td>\n",
       "      <td>1.0</td>\n",
       "      <td>1.27</td>\n",
       "      <td>2.8</td>\n",
       "      <td>0.0</td>\n",
       "      <td>0.0</td>\n",
       "      <td>0.0</td>\n",
       "      <td>...</td>\n",
       "      <td>0</td>\n",
       "      <td>0.0</td>\n",
       "      <td>0.0</td>\n",
       "      <td>0.0</td>\n",
       "      <td>0</td>\n",
       "      <td>0</td>\n",
       "      <td>0</td>\n",
       "      <td>0</td>\n",
       "      <td>0</td>\n",
       "      <td>0</td>\n",
       "    </tr>\n",
       "  </tbody>\n",
       "</table>\n",
       "<p>10 rows × 22 columns</p>\n",
       "</div>"
      ],
      "text/plain": [
       "   Age  Number of sexual partners  First sexual intercourse  \\\n",
       "0   18                        4.0                      15.0   \n",
       "1   15                        1.0                      14.0   \n",
       "2   34                        1.0                      17.0   \n",
       "3   52                        5.0                      16.0   \n",
       "4   46                        3.0                      21.0   \n",
       "5   42                        3.0                      23.0   \n",
       "6   51                        3.0                      17.0   \n",
       "7   26                        1.0                      26.0   \n",
       "8   45                        1.0                      20.0   \n",
       "9   44                        3.0                      15.0   \n",
       "\n",
       "   Num of pregnancies  Smokes  Smokes (years)  Smokes (packs/year)  \\\n",
       "0                 1.0     0.0            0.00                  0.0   \n",
       "1                 1.0     0.0            0.00                  0.0   \n",
       "2                 1.0     0.0            0.00                  0.0   \n",
       "3                 4.0     1.0           37.00                 37.0   \n",
       "4                 4.0     0.0            0.00                  0.0   \n",
       "5                 2.0     0.0            0.00                  0.0   \n",
       "6                 6.0     1.0           34.00                  3.4   \n",
       "7                 3.0     0.0            0.00                  0.0   \n",
       "8                 5.0     0.0            0.00                  0.0   \n",
       "9                 2.0     1.0            1.27                  2.8   \n",
       "\n",
       "   Hormonal Contraceptives  Hormonal Contraceptives (years)  IUD  ...  \\\n",
       "0                      0.0                              0.0  0.0  ...   \n",
       "1                      0.0                              0.0  0.0  ...   \n",
       "2                      0.0                              0.0  0.0  ...   \n",
       "3                      1.0                              3.0  0.0  ...   \n",
       "4                      1.0                             15.0  0.0  ...   \n",
       "5                      0.0                              0.0  0.0  ...   \n",
       "6                      0.0                              0.0  1.0  ...   \n",
       "7                      1.0                              2.0  1.0  ...   \n",
       "8                      0.0                              0.0  0.0  ...   \n",
       "9                      0.0                              0.0  0.0  ...   \n",
       "\n",
       "   STDs (number)  STDs:condylomatosis  STDs:syphilis  STDs:HIV  \\\n",
       "0              0                  0.0            0.0       0.0   \n",
       "1              0                  0.0            0.0       0.0   \n",
       "2              0                  0.0            0.0       0.0   \n",
       "3              0                  0.0            0.0       0.0   \n",
       "4              0                  0.0            0.0       0.0   \n",
       "5              0                  0.0            0.0       0.0   \n",
       "6              0                  0.0            0.0       0.0   \n",
       "7              0                  0.0            0.0       0.0   \n",
       "8              0                  0.0            0.0       0.0   \n",
       "9              0                  0.0            0.0       0.0   \n",
       "\n",
       "   STDs: Number of diagnosis  Dx:Cancer  Dx:CIN  Dx:HPV  Dx  Hinselmann  \n",
       "0                          0          0       0       0   0           0  \n",
       "1                          0          0       0       0   0           0  \n",
       "2                          0          0       0       0   0           0  \n",
       "3                          0          1       0       1   0           0  \n",
       "4                          0          0       0       0   0           0  \n",
       "5                          0          0       0       0   0           0  \n",
       "6                          0          0       0       0   0           1  \n",
       "7                          0          0       0       0   0           0  \n",
       "8                          0          1       0       1   1           0  \n",
       "9                          0          0       0       0   0           0  \n",
       "\n",
       "[10 rows x 22 columns]"
      ]
     },
     "execution_count": 17,
     "metadata": {},
     "output_type": "execute_result"
    }
   ],
   "source": [
    "df_.head(10)"
   ]
  },
  {
   "cell_type": "code",
   "execution_count": 18,
   "metadata": {
    "colab": {
     "base_uri": "https://localhost:8080/"
    },
    "id": "gysRLPMiojbs",
    "outputId": "46cbf576-26cb-47b0-d025-8597f842d75f"
   },
   "outputs": [
    {
     "data": {
      "text/plain": [
       "(1642, 21)"
      ]
     },
     "execution_count": 18,
     "metadata": {},
     "output_type": "execute_result"
    }
   ],
   "source": [
    "X.shape"
   ]
  },
  {
   "cell_type": "code",
   "execution_count": 19,
   "metadata": {
    "colab": {
     "base_uri": "https://localhost:8080/"
    },
    "id": "ZR0SGYsrooCj",
    "outputId": "82c1c955-fa39-4efd-c229-9a37a797d610"
   },
   "outputs": [
    {
     "data": {
      "text/plain": [
       "(1642,)"
      ]
     },
     "execution_count": 19,
     "metadata": {},
     "output_type": "execute_result"
    }
   ],
   "source": [
    "Y1.shape"
   ]
  },
  {
   "cell_type": "code",
   "execution_count": 20,
   "metadata": {
    "id": "L0Nql-UdoyCC"
   },
   "outputs": [],
   "source": [
    "df_= df_.sample(frac=1,random_state=1).reset_index()"
   ]
  },
  {
   "cell_type": "code",
   "execution_count": 21,
   "metadata": {
    "colab": {
     "base_uri": "https://localhost:8080/",
     "height": 508
    },
    "id": "WQP0gCkCpGWc",
    "outputId": "2294d6b1-1307-4bf0-9648-9085ed13cc50"
   },
   "outputs": [
    {
     "data": {
      "text/html": [
       "<div>\n",
       "<style scoped>\n",
       "    .dataframe tbody tr th:only-of-type {\n",
       "        vertical-align: middle;\n",
       "    }\n",
       "\n",
       "    .dataframe tbody tr th {\n",
       "        vertical-align: top;\n",
       "    }\n",
       "\n",
       "    .dataframe thead th {\n",
       "        text-align: right;\n",
       "    }\n",
       "</style>\n",
       "<table border=\"1\" class=\"dataframe\">\n",
       "  <thead>\n",
       "    <tr style=\"text-align: right;\">\n",
       "      <th></th>\n",
       "      <th>index</th>\n",
       "      <th>Age</th>\n",
       "      <th>Number of sexual partners</th>\n",
       "      <th>First sexual intercourse</th>\n",
       "      <th>Num of pregnancies</th>\n",
       "      <th>Smokes</th>\n",
       "      <th>Smokes (years)</th>\n",
       "      <th>Smokes (packs/year)</th>\n",
       "      <th>Hormonal Contraceptives</th>\n",
       "      <th>Hormonal Contraceptives (years)</th>\n",
       "      <th>...</th>\n",
       "      <th>STDs (number)</th>\n",
       "      <th>STDs:condylomatosis</th>\n",
       "      <th>STDs:syphilis</th>\n",
       "      <th>STDs:HIV</th>\n",
       "      <th>STDs: Number of diagnosis</th>\n",
       "      <th>Dx:Cancer</th>\n",
       "      <th>Dx:CIN</th>\n",
       "      <th>Dx:HPV</th>\n",
       "      <th>Dx</th>\n",
       "      <th>Hinselmann</th>\n",
       "    </tr>\n",
       "  </thead>\n",
       "  <tbody>\n",
       "    <tr>\n",
       "      <th>0</th>\n",
       "      <td>161</td>\n",
       "      <td>28</td>\n",
       "      <td>2.000000</td>\n",
       "      <td>18.000000</td>\n",
       "      <td>2.000000</td>\n",
       "      <td>0.000000</td>\n",
       "      <td>0.00000</td>\n",
       "      <td>0.000000</td>\n",
       "      <td>1.0</td>\n",
       "      <td>6.000000</td>\n",
       "      <td>...</td>\n",
       "      <td>0</td>\n",
       "      <td>0.0</td>\n",
       "      <td>0.0</td>\n",
       "      <td>0.0</td>\n",
       "      <td>0</td>\n",
       "      <td>0</td>\n",
       "      <td>0</td>\n",
       "      <td>0</td>\n",
       "      <td>0</td>\n",
       "      <td>0</td>\n",
       "    </tr>\n",
       "    <tr>\n",
       "      <th>1</th>\n",
       "      <td>1016</td>\n",
       "      <td>21</td>\n",
       "      <td>1.000000</td>\n",
       "      <td>17.412437</td>\n",
       "      <td>1.587563</td>\n",
       "      <td>0.000000</td>\n",
       "      <td>0.00000</td>\n",
       "      <td>0.000000</td>\n",
       "      <td>1.0</td>\n",
       "      <td>9.299498</td>\n",
       "      <td>...</td>\n",
       "      <td>0</td>\n",
       "      <td>0.0</td>\n",
       "      <td>0.0</td>\n",
       "      <td>0.0</td>\n",
       "      <td>0</td>\n",
       "      <td>0</td>\n",
       "      <td>0</td>\n",
       "      <td>0</td>\n",
       "      <td>0</td>\n",
       "      <td>1</td>\n",
       "    </tr>\n",
       "    <tr>\n",
       "      <th>2</th>\n",
       "      <td>1498</td>\n",
       "      <td>33</td>\n",
       "      <td>2.537915</td>\n",
       "      <td>18.537915</td>\n",
       "      <td>4.386256</td>\n",
       "      <td>0.000000</td>\n",
       "      <td>0.00000</td>\n",
       "      <td>0.000000</td>\n",
       "      <td>1.0</td>\n",
       "      <td>0.548152</td>\n",
       "      <td>...</td>\n",
       "      <td>0</td>\n",
       "      <td>0.0</td>\n",
       "      <td>0.0</td>\n",
       "      <td>0.0</td>\n",
       "      <td>0</td>\n",
       "      <td>0</td>\n",
       "      <td>0</td>\n",
       "      <td>0</td>\n",
       "      <td>0</td>\n",
       "      <td>1</td>\n",
       "    </tr>\n",
       "    <tr>\n",
       "      <th>3</th>\n",
       "      <td>558</td>\n",
       "      <td>38</td>\n",
       "      <td>1.000000</td>\n",
       "      <td>24.000000</td>\n",
       "      <td>3.000000</td>\n",
       "      <td>0.000000</td>\n",
       "      <td>0.00000</td>\n",
       "      <td>0.000000</td>\n",
       "      <td>1.0</td>\n",
       "      <td>6.500000</td>\n",
       "      <td>...</td>\n",
       "      <td>0</td>\n",
       "      <td>0.0</td>\n",
       "      <td>0.0</td>\n",
       "      <td>0.0</td>\n",
       "      <td>0</td>\n",
       "      <td>0</td>\n",
       "      <td>0</td>\n",
       "      <td>0</td>\n",
       "      <td>0</td>\n",
       "      <td>0</td>\n",
       "    </tr>\n",
       "    <tr>\n",
       "      <th>4</th>\n",
       "      <td>799</td>\n",
       "      <td>35</td>\n",
       "      <td>3.000000</td>\n",
       "      <td>17.000000</td>\n",
       "      <td>3.000000</td>\n",
       "      <td>1.000000</td>\n",
       "      <td>20.00000</td>\n",
       "      <td>2.000000</td>\n",
       "      <td>1.0</td>\n",
       "      <td>2.000000</td>\n",
       "      <td>...</td>\n",
       "      <td>0</td>\n",
       "      <td>0.0</td>\n",
       "      <td>0.0</td>\n",
       "      <td>0.0</td>\n",
       "      <td>0</td>\n",
       "      <td>0</td>\n",
       "      <td>0</td>\n",
       "      <td>0</td>\n",
       "      <td>0</td>\n",
       "      <td>0</td>\n",
       "    </tr>\n",
       "    <tr>\n",
       "      <th>5</th>\n",
       "      <td>1566</td>\n",
       "      <td>35</td>\n",
       "      <td>2.110821</td>\n",
       "      <td>17.055411</td>\n",
       "      <td>3.055411</td>\n",
       "      <td>0.000000</td>\n",
       "      <td>0.00000</td>\n",
       "      <td>0.000000</td>\n",
       "      <td>1.0</td>\n",
       "      <td>1.831160</td>\n",
       "      <td>...</td>\n",
       "      <td>0</td>\n",
       "      <td>0.0</td>\n",
       "      <td>0.0</td>\n",
       "      <td>0.0</td>\n",
       "      <td>0</td>\n",
       "      <td>0</td>\n",
       "      <td>0</td>\n",
       "      <td>0</td>\n",
       "      <td>0</td>\n",
       "      <td>1</td>\n",
       "    </tr>\n",
       "    <tr>\n",
       "      <th>6</th>\n",
       "      <td>1066</td>\n",
       "      <td>20</td>\n",
       "      <td>1.000000</td>\n",
       "      <td>17.256672</td>\n",
       "      <td>1.743328</td>\n",
       "      <td>0.000000</td>\n",
       "      <td>0.00000</td>\n",
       "      <td>0.000000</td>\n",
       "      <td>1.0</td>\n",
       "      <td>5.823392</td>\n",
       "      <td>...</td>\n",
       "      <td>0</td>\n",
       "      <td>0.0</td>\n",
       "      <td>0.0</td>\n",
       "      <td>0.0</td>\n",
       "      <td>0</td>\n",
       "      <td>0</td>\n",
       "      <td>0</td>\n",
       "      <td>0</td>\n",
       "      <td>0</td>\n",
       "      <td>1</td>\n",
       "    </tr>\n",
       "    <tr>\n",
       "      <th>7</th>\n",
       "      <td>1080</td>\n",
       "      <td>19</td>\n",
       "      <td>2.464741</td>\n",
       "      <td>14.535259</td>\n",
       "      <td>2.464741</td>\n",
       "      <td>0.535259</td>\n",
       "      <td>0.26763</td>\n",
       "      <td>0.026763</td>\n",
       "      <td>1.0</td>\n",
       "      <td>0.641376</td>\n",
       "      <td>...</td>\n",
       "      <td>0</td>\n",
       "      <td>0.0</td>\n",
       "      <td>0.0</td>\n",
       "      <td>0.0</td>\n",
       "      <td>0</td>\n",
       "      <td>0</td>\n",
       "      <td>0</td>\n",
       "      <td>0</td>\n",
       "      <td>0</td>\n",
       "      <td>1</td>\n",
       "    </tr>\n",
       "    <tr>\n",
       "      <th>8</th>\n",
       "      <td>592</td>\n",
       "      <td>20</td>\n",
       "      <td>3.000000</td>\n",
       "      <td>18.000000</td>\n",
       "      <td>1.000000</td>\n",
       "      <td>0.000000</td>\n",
       "      <td>0.00000</td>\n",
       "      <td>0.000000</td>\n",
       "      <td>1.0</td>\n",
       "      <td>1.000000</td>\n",
       "      <td>...</td>\n",
       "      <td>0</td>\n",
       "      <td>0.0</td>\n",
       "      <td>0.0</td>\n",
       "      <td>0.0</td>\n",
       "      <td>0</td>\n",
       "      <td>0</td>\n",
       "      <td>0</td>\n",
       "      <td>0</td>\n",
       "      <td>0</td>\n",
       "      <td>0</td>\n",
       "    </tr>\n",
       "    <tr>\n",
       "      <th>9</th>\n",
       "      <td>1013</td>\n",
       "      <td>21</td>\n",
       "      <td>2.396896</td>\n",
       "      <td>14.904656</td>\n",
       "      <td>2.698448</td>\n",
       "      <td>0.000000</td>\n",
       "      <td>0.00000</td>\n",
       "      <td>0.000000</td>\n",
       "      <td>1.0</td>\n",
       "      <td>0.849224</td>\n",
       "      <td>...</td>\n",
       "      <td>0</td>\n",
       "      <td>0.0</td>\n",
       "      <td>0.0</td>\n",
       "      <td>0.0</td>\n",
       "      <td>0</td>\n",
       "      <td>0</td>\n",
       "      <td>0</td>\n",
       "      <td>0</td>\n",
       "      <td>0</td>\n",
       "      <td>1</td>\n",
       "    </tr>\n",
       "  </tbody>\n",
       "</table>\n",
       "<p>10 rows × 23 columns</p>\n",
       "</div>"
      ],
      "text/plain": [
       "   index  Age  Number of sexual partners  First sexual intercourse  \\\n",
       "0    161   28                   2.000000                 18.000000   \n",
       "1   1016   21                   1.000000                 17.412437   \n",
       "2   1498   33                   2.537915                 18.537915   \n",
       "3    558   38                   1.000000                 24.000000   \n",
       "4    799   35                   3.000000                 17.000000   \n",
       "5   1566   35                   2.110821                 17.055411   \n",
       "6   1066   20                   1.000000                 17.256672   \n",
       "7   1080   19                   2.464741                 14.535259   \n",
       "8    592   20                   3.000000                 18.000000   \n",
       "9   1013   21                   2.396896                 14.904656   \n",
       "\n",
       "   Num of pregnancies    Smokes  Smokes (years)  Smokes (packs/year)  \\\n",
       "0            2.000000  0.000000         0.00000             0.000000   \n",
       "1            1.587563  0.000000         0.00000             0.000000   \n",
       "2            4.386256  0.000000         0.00000             0.000000   \n",
       "3            3.000000  0.000000         0.00000             0.000000   \n",
       "4            3.000000  1.000000        20.00000             2.000000   \n",
       "5            3.055411  0.000000         0.00000             0.000000   \n",
       "6            1.743328  0.000000         0.00000             0.000000   \n",
       "7            2.464741  0.535259         0.26763             0.026763   \n",
       "8            1.000000  0.000000         0.00000             0.000000   \n",
       "9            2.698448  0.000000         0.00000             0.000000   \n",
       "\n",
       "   Hormonal Contraceptives  Hormonal Contraceptives (years)  ...  \\\n",
       "0                      1.0                         6.000000  ...   \n",
       "1                      1.0                         9.299498  ...   \n",
       "2                      1.0                         0.548152  ...   \n",
       "3                      1.0                         6.500000  ...   \n",
       "4                      1.0                         2.000000  ...   \n",
       "5                      1.0                         1.831160  ...   \n",
       "6                      1.0                         5.823392  ...   \n",
       "7                      1.0                         0.641376  ...   \n",
       "8                      1.0                         1.000000  ...   \n",
       "9                      1.0                         0.849224  ...   \n",
       "\n",
       "   STDs (number)  STDs:condylomatosis  STDs:syphilis  STDs:HIV  \\\n",
       "0              0                  0.0            0.0       0.0   \n",
       "1              0                  0.0            0.0       0.0   \n",
       "2              0                  0.0            0.0       0.0   \n",
       "3              0                  0.0            0.0       0.0   \n",
       "4              0                  0.0            0.0       0.0   \n",
       "5              0                  0.0            0.0       0.0   \n",
       "6              0                  0.0            0.0       0.0   \n",
       "7              0                  0.0            0.0       0.0   \n",
       "8              0                  0.0            0.0       0.0   \n",
       "9              0                  0.0            0.0       0.0   \n",
       "\n",
       "   STDs: Number of diagnosis  Dx:Cancer  Dx:CIN  Dx:HPV  Dx  Hinselmann  \n",
       "0                          0          0       0       0   0           0  \n",
       "1                          0          0       0       0   0           1  \n",
       "2                          0          0       0       0   0           1  \n",
       "3                          0          0       0       0   0           0  \n",
       "4                          0          0       0       0   0           0  \n",
       "5                          0          0       0       0   0           1  \n",
       "6                          0          0       0       0   0           1  \n",
       "7                          0          0       0       0   0           1  \n",
       "8                          0          0       0       0   0           0  \n",
       "9                          0          0       0       0   0           1  \n",
       "\n",
       "[10 rows x 23 columns]"
      ]
     },
     "execution_count": 21,
     "metadata": {},
     "output_type": "execute_result"
    }
   ],
   "source": [
    "df_.head(10)"
   ]
  },
  {
   "cell_type": "code",
   "execution_count": 22,
   "metadata": {
    "id": "EIs7POBIuOS_"
   },
   "outputs": [],
   "source": [
    "X=df_.drop(['Hinselmann'],axis=1)\n",
    "Y1=df_['Hinselmann']"
   ]
  },
  {
   "cell_type": "code",
   "execution_count": 23,
   "metadata": {
    "id": "ZH2OJb7NXhV-"
   },
   "outputs": [],
   "source": [
    "from sklearn.model_selection import train_test_split"
   ]
  },
  {
   "cell_type": "code",
   "execution_count": 24,
   "metadata": {
    "id": "FXHqMu-VX6Zl"
   },
   "outputs": [],
   "source": [
    "X_train, X_test, Y1_train, Y1_test = train_test_split(X, \n",
    "                                                  Y1, \n",
    "                                                  test_size=0.2, \n",
    "                                                  random_state=123)"
   ]
  },
  {
   "cell_type": "code",
   "execution_count": 25,
   "metadata": {
    "colab": {
     "base_uri": "https://localhost:8080/"
    },
    "id": "NRJ94w9DYPd3",
    "outputId": "6c5969e8-67a3-407e-c0da-081288c8ea98"
   },
   "outputs": [
    {
     "name": "stdout",
     "output_type": "stream",
     "text": [
      "Shape of Y1_train is (1313,)\n",
      "Shape of X_train is (1313, 22)\n"
     ]
    }
   ],
   "source": [
    "print(f\"Shape of Y1_train is {Y1_train.shape}\")\n",
    "print(f\"Shape of X_train is {X_train.shape}\")"
   ]
  },
  {
   "cell_type": "code",
   "execution_count": 26,
   "metadata": {
    "colab": {
     "base_uri": "https://localhost:8080/"
    },
    "id": "Pc-4Sw2NulFW",
    "outputId": "77239066-c1ac-4f79-f842-3686e339aa17"
   },
   "outputs": [
    {
     "name": "stdout",
     "output_type": "stream",
     "text": [
      "Epoch 1/50\n",
      "44/44 [==============================] - 1s 8ms/step - loss: 2.4562 - accuracy: 0.5522 - precision: 0.5374 - val_loss: 0.6376 - val_accuracy: 0.5441 - val_precision: 0.5226\n",
      "Epoch 2/50\n",
      "44/44 [==============================] - 0s 3ms/step - loss: 0.6868 - accuracy: 0.6192 - precision: 0.5820 - val_loss: 0.4843 - val_accuracy: 0.6201 - val_precision: 0.5694\n",
      "Epoch 3/50\n",
      "44/44 [==============================] - 0s 3ms/step - loss: 0.4875 - accuracy: 0.7380 - precision: 0.6879 - val_loss: 0.3296 - val_accuracy: 0.8389 - val_precision: 0.7817\n",
      "Epoch 4/50\n",
      "44/44 [==============================] - 0s 3ms/step - loss: 0.5057 - accuracy: 0.7212 - precision: 0.6611 - val_loss: 0.3609 - val_accuracy: 0.8723 - val_precision: 0.8427\n",
      "Epoch 5/50\n",
      "44/44 [==============================] - 0s 3ms/step - loss: 0.3989 - accuracy: 0.8111 - precision: 0.7618 - val_loss: 0.4709 - val_accuracy: 0.7112 - val_precision: 0.6408\n",
      "Epoch 6/50\n",
      "44/44 [==============================] - 0s 3ms/step - loss: 0.3444 - accuracy: 0.8492 - precision: 0.8040 - val_loss: 0.3236 - val_accuracy: 0.8936 - val_precision: 0.9388\n",
      "Epoch 7/50\n",
      "44/44 [==============================] - 0s 3ms/step - loss: 0.3198 - accuracy: 0.8660 - precision: 0.8272 - val_loss: 0.4063 - val_accuracy: 0.7720 - val_precision: 0.7014\n",
      "Epoch 8/50\n",
      "44/44 [==============================] - 0s 3ms/step - loss: 0.2989 - accuracy: 0.8751 - precision: 0.8409 - val_loss: 0.3437 - val_accuracy: 0.8267 - val_precision: 0.7635\n",
      "Epoch 9/50\n",
      "44/44 [==============================] - 0s 3ms/step - loss: 0.2613 - accuracy: 0.8880 - precision: 0.8685 - val_loss: 0.3618 - val_accuracy: 0.8176 - val_precision: 0.7524\n",
      "Epoch 10/50\n",
      "44/44 [==============================] - 0s 3ms/step - loss: 0.2894 - accuracy: 0.8705 - precision: 0.8340 - val_loss: 0.3281 - val_accuracy: 0.8207 - val_precision: 0.7561\n",
      "Epoch 11/50\n",
      "44/44 [==============================] - 0s 3ms/step - loss: 0.2812 - accuracy: 0.8789 - precision: 0.8478 - val_loss: 0.2593 - val_accuracy: 0.9088 - val_precision: 0.8895\n",
      "Epoch 12/50\n",
      "44/44 [==============================] - 0s 4ms/step - loss: 0.2726 - accuracy: 0.8812 - precision: 0.8417 - val_loss: 0.2699 - val_accuracy: 0.9149 - val_precision: 0.9359\n",
      "Epoch 13/50\n",
      "44/44 [==============================] - 0s 4ms/step - loss: 0.2357 - accuracy: 0.8995 - precision: 0.8723 - val_loss: 0.2619 - val_accuracy: 0.8967 - val_precision: 0.8652\n",
      "Epoch 14/50\n",
      "44/44 [==============================] - 0s 4ms/step - loss: 0.2350 - accuracy: 0.9094 - precision: 0.8933 - val_loss: 0.2335 - val_accuracy: 0.9149 - val_precision: 0.9198\n",
      "Epoch 15/50\n",
      "44/44 [==============================] - 0s 4ms/step - loss: 0.2650 - accuracy: 0.8888 - precision: 0.8524 - val_loss: 0.2669 - val_accuracy: 0.8815 - val_precision: 0.8415\n",
      "Epoch 16/50\n",
      "44/44 [==============================] - 0s 3ms/step - loss: 0.2356 - accuracy: 0.9078 - precision: 0.8895 - val_loss: 0.2594 - val_accuracy: 0.9210 - val_precision: 0.9481\n",
      "Epoch 17/50\n",
      "44/44 [==============================] - 0s 3ms/step - loss: 0.2198 - accuracy: 0.9117 - precision: 0.8915 - val_loss: 0.2596 - val_accuracy: 0.9210 - val_precision: 0.9157\n",
      "Epoch 18/50\n",
      "44/44 [==============================] - 0s 4ms/step - loss: 0.2178 - accuracy: 0.9162 - precision: 0.9076 - val_loss: 0.2556 - val_accuracy: 0.8997 - val_precision: 0.8701\n",
      "Epoch 19/50\n",
      "44/44 [==============================] - 0s 3ms/step - loss: 0.2233 - accuracy: 0.9170 - precision: 0.9029 - val_loss: 0.2576 - val_accuracy: 0.9088 - val_precision: 0.8895\n",
      "Epoch 20/50\n",
      "44/44 [==============================] - 0s 3ms/step - loss: 0.2448 - accuracy: 0.9018 - precision: 0.8793 - val_loss: 0.2568 - val_accuracy: 0.9119 - val_precision: 0.9193\n",
      "Epoch 21/50\n",
      "44/44 [==============================] - 0s 4ms/step - loss: 0.2405 - accuracy: 0.9109 - precision: 0.8959 - val_loss: 0.2497 - val_accuracy: 0.9088 - val_precision: 0.8895\n",
      "Epoch 22/50\n",
      "44/44 [==============================] - 0s 3ms/step - loss: 0.2032 - accuracy: 0.9216 - precision: 0.9098 - val_loss: 0.2285 - val_accuracy: 0.9149 - val_precision: 0.9096\n",
      "Epoch 23/50\n",
      "44/44 [==============================] - 0s 3ms/step - loss: 0.2171 - accuracy: 0.9139 - precision: 0.8886 - val_loss: 0.2482 - val_accuracy: 0.9301 - val_precision: 0.9669\n",
      "Epoch 24/50\n",
      "44/44 [==============================] - 0s 3ms/step - loss: 0.2207 - accuracy: 0.9155 - precision: 0.8957 - val_loss: 0.2606 - val_accuracy: 0.9301 - val_precision: 0.9669\n",
      "Epoch 25/50\n",
      "44/44 [==============================] - 0s 4ms/step - loss: 0.2032 - accuracy: 0.9238 - precision: 0.9078 - val_loss: 0.2177 - val_accuracy: 0.9149 - val_precision: 0.9146\n",
      "Epoch 26/50\n",
      "44/44 [==============================] - 0s 4ms/step - loss: 0.1938 - accuracy: 0.9177 - precision: 0.9055 - val_loss: 0.2187 - val_accuracy: 0.9271 - val_precision: 0.9545\n",
      "Epoch 27/50\n",
      "44/44 [==============================] - 0s 3ms/step - loss: 0.1869 - accuracy: 0.9276 - precision: 0.9157 - val_loss: 0.2097 - val_accuracy: 0.9301 - val_precision: 0.9548\n",
      "Epoch 28/50\n",
      "44/44 [==============================] - 0s 3ms/step - loss: 0.1915 - accuracy: 0.9292 - precision: 0.9209 - val_loss: 0.2286 - val_accuracy: 0.9331 - val_precision: 0.9733\n",
      "Epoch 29/50\n",
      "44/44 [==============================] - 0s 3ms/step - loss: 0.2422 - accuracy: 0.9010 - precision: 0.8813 - val_loss: 0.2599 - val_accuracy: 0.8875 - val_precision: 0.8508\n",
      "Epoch 30/50\n",
      "44/44 [==============================] - 0s 3ms/step - loss: 0.2344 - accuracy: 0.9193 - precision: 0.9034 - val_loss: 0.2198 - val_accuracy: 0.9240 - val_precision: 0.9371\n",
      "Epoch 31/50\n",
      "44/44 [==============================] - 0s 3ms/step - loss: 0.2008 - accuracy: 0.9261 - precision: 0.9118 - val_loss: 0.2320 - val_accuracy: 0.9331 - val_precision: 0.9733\n",
      "Epoch 32/50\n",
      "44/44 [==============================] - 0s 4ms/step - loss: 0.1873 - accuracy: 0.9269 - precision: 0.9143 - val_loss: 0.2389 - val_accuracy: 0.9331 - val_precision: 0.9671\n",
      "Epoch 33/50\n",
      "44/44 [==============================] - 0s 3ms/step - loss: 0.1838 - accuracy: 0.9368 - precision: 0.9335 - val_loss: 0.2380 - val_accuracy: 0.9179 - val_precision: 0.9006\n",
      "Epoch 34/50\n",
      "44/44 [==============================] - 0s 3ms/step - loss: 0.2057 - accuracy: 0.9139 - precision: 0.8988 - val_loss: 0.2232 - val_accuracy: 0.9210 - val_precision: 0.9059\n",
      "Epoch 35/50\n",
      "44/44 [==============================] - 0s 4ms/step - loss: 0.1882 - accuracy: 0.9269 - precision: 0.9107 - val_loss: 0.2223 - val_accuracy: 0.9331 - val_precision: 0.9671\n",
      "Epoch 36/50\n",
      "44/44 [==============================] - 0s 3ms/step - loss: 0.1915 - accuracy: 0.9193 - precision: 0.9022 - val_loss: 0.2246 - val_accuracy: 0.9271 - val_precision: 0.9375\n",
      "Epoch 37/50\n",
      "44/44 [==============================] - 0s 3ms/step - loss: 0.1810 - accuracy: 0.9322 - precision: 0.9290 - val_loss: 0.2650 - val_accuracy: 0.8845 - val_precision: 0.8462\n",
      "Epoch 38/50\n",
      "44/44 [==============================] - 0s 3ms/step - loss: 0.1879 - accuracy: 0.9254 - precision: 0.9141 - val_loss: 0.2374 - val_accuracy: 0.9088 - val_precision: 0.8851\n",
      "Epoch 39/50\n",
      "44/44 [==============================] - 0s 3ms/step - loss: 0.1920 - accuracy: 0.9276 - precision: 0.9245 - val_loss: 0.2394 - val_accuracy: 0.9058 - val_precision: 0.8800\n",
      "Epoch 40/50\n",
      "44/44 [==============================] - 0s 3ms/step - loss: 0.1811 - accuracy: 0.9276 - precision: 0.9132 - val_loss: 0.2835 - val_accuracy: 0.8845 - val_precision: 0.8462\n",
      "Epoch 41/50\n",
      "44/44 [==============================] - 0s 3ms/step - loss: 0.1793 - accuracy: 0.9292 - precision: 0.9234 - val_loss: 0.2233 - val_accuracy: 0.9362 - val_precision: 0.9735\n",
      "Epoch 42/50\n",
      "44/44 [==============================] - 0s 3ms/step - loss: 0.1943 - accuracy: 0.9193 - precision: 0.9010 - val_loss: 0.2291 - val_accuracy: 0.9210 - val_precision: 0.9059\n",
      "Epoch 43/50\n",
      "44/44 [==============================] - 0s 3ms/step - loss: 0.1801 - accuracy: 0.9299 - precision: 0.9235 - val_loss: 0.2261 - val_accuracy: 0.9331 - val_precision: 0.9733\n",
      "Epoch 44/50\n",
      "44/44 [==============================] - 0s 3ms/step - loss: 0.1698 - accuracy: 0.9398 - precision: 0.9352 - val_loss: 0.2131 - val_accuracy: 0.9362 - val_precision: 0.9673\n",
      "Epoch 45/50\n"
     ]
    },
    {
     "name": "stdout",
     "output_type": "stream",
     "text": [
      "44/44 [==============================] - 0s 3ms/step - loss: 0.2162 - accuracy: 0.9162 - precision: 0.8970 - val_loss: 0.2691 - val_accuracy: 0.9240 - val_precision: 0.9112\n",
      "Epoch 46/50\n",
      "44/44 [==============================] - 0s 3ms/step - loss: 0.1760 - accuracy: 0.9315 - precision: 0.9276 - val_loss: 0.2464 - val_accuracy: 0.9362 - val_precision: 0.9799\n",
      "Epoch 47/50\n",
      "44/44 [==============================] - 0s 3ms/step - loss: 0.1936 - accuracy: 0.9223 - precision: 0.9087 - val_loss: 0.2744 - val_accuracy: 0.8875 - val_precision: 0.8508\n",
      "Epoch 48/50\n",
      "44/44 [==============================] - 0s 3ms/step - loss: 0.1783 - accuracy: 0.9254 - precision: 0.9080 - val_loss: 0.2108 - val_accuracy: 0.9301 - val_precision: 0.9490\n",
      "Epoch 49/50\n",
      "44/44 [==============================] - 0s 3ms/step - loss: 0.1898 - accuracy: 0.9238 - precision: 0.9102 - val_loss: 0.2470 - val_accuracy: 0.9179 - val_precision: 0.9006\n",
      "Epoch 50/50\n",
      "44/44 [==============================] - 0s 3ms/step - loss: 0.1793 - accuracy: 0.9322 - precision: 0.9239 - val_loss: 0.2884 - val_accuracy: 0.8906 - val_precision: 0.8556\n"
     ]
    }
   ],
   "source": [
    "opt = tf.keras.optimizers.Adam(learning_rate=0.001)\n",
    "# tf.random.set_seed(123)\n",
    "neuralNetworkModel = tf.keras.Sequential([\n",
    "    tf.keras.layers.Dense(512, activation='relu'),\n",
    "    \n",
    "    tf.keras.layers.Dense(256, activation='relu'),\n",
    "    tf.keras.layers.Dense(128, activation='relu'),\n",
    "    tf.keras.layers.Dropout(0.2),\n",
    "    tf.keras.layers.Dense(64, activation='relu'),\n",
    "    tf.keras.layers.Dense(32, activation='relu'),\n",
    "    tf.keras.layers.Dropout(0.1),\n",
    "    tf.keras.layers.Dense(1, activation='sigmoid')])\n",
    "\n",
    "neuralNetworkModel.compile(optimizer=opt,\n",
    "                           loss='binary_crossentropy',\n",
    "                          metrics=['accuracy',tf.keras.metrics.Precision(name='precision')])\n",
    "trainingResults = neuralNetworkModel.fit(X_train,Y1_train,validation_data=(X_test,Y1_test),batch_size=30,epochs=50,shuffle=True)"
   ]
  },
  {
   "cell_type": "code",
   "execution_count": 27,
   "metadata": {
    "colab": {
     "base_uri": "https://localhost:8080/"
    },
    "id": "BDan51bWL3st",
    "outputId": "6584e997-0776-4a93-934d-f3d0ff8e2245"
   },
   "outputs": [
    {
     "name": "stdout",
     "output_type": "stream",
     "text": [
      "Model: \"sequential\"\n",
      "_________________________________________________________________\n",
      " Layer (type)                Output Shape              Param #   \n",
      "=================================================================\n",
      " dense (Dense)               (None, 512)               11776     \n",
      "                                                                 \n",
      " dense_1 (Dense)             (None, 256)               131328    \n",
      "                                                                 \n",
      " dense_2 (Dense)             (None, 128)               32896     \n",
      "                                                                 \n",
      " dropout (Dropout)           (None, 128)               0         \n",
      "                                                                 \n",
      " dense_3 (Dense)             (None, 64)                8256      \n",
      "                                                                 \n",
      " dense_4 (Dense)             (None, 32)                2080      \n",
      "                                                                 \n",
      " dropout_1 (Dropout)         (None, 32)                0         \n",
      "                                                                 \n",
      " dense_5 (Dense)             (None, 1)                 33        \n",
      "                                                                 \n",
      "=================================================================\n",
      "Total params: 186,369\n",
      "Trainable params: 186,369\n",
      "Non-trainable params: 0\n",
      "_________________________________________________________________\n"
     ]
    }
   ],
   "source": [
    "neuralNetworkModel.summary()"
   ]
  },
  {
   "cell_type": "code",
   "execution_count": 28,
   "metadata": {
    "colab": {
     "base_uri": "https://localhost:8080/"
    },
    "id": "zYUMu70lLZ4Y",
    "outputId": "d13dbe92-865a-4e0d-d077-669db9795dd5"
   },
   "outputs": [
    {
     "name": "stdout",
     "output_type": "stream",
     "text": [
      "\n",
      "\n",
      "\n",
      "\n",
      "Training Accuracy:  0.9002285003662109\n",
      "\n",
      "Test Accuracy:  0.890577495098114\n"
     ]
    }
   ],
   "source": [
    "trainingAccuracy = neuralNetworkModel.evaluate(X_train,Y1_train,verbose=0)\n",
    "testingAccuracy = neuralNetworkModel.evaluate(X_test,Y1_test,verbose=0)\n",
    "print('\\n\\n')\n",
    "print('\\nTraining Accuracy: ',trainingAccuracy[1])\n",
    "print('\\nTest Accuracy: ',testingAccuracy[1])"
   ]
  },
  {
   "cell_type": "code",
   "execution_count": 29,
   "metadata": {
    "colab": {
     "base_uri": "https://localhost:8080/",
     "height": 606
    },
    "id": "iWM2b2DkLo7c",
    "outputId": "63ed001a-fc49-4b35-aa0b-9aed1bc05768"
   },
   "outputs": [
    {
     "data": {
      "image/png": "[encoded data removed]",
      "text/plain": [
       "<Figure size 720x720 with 1 Axes>"
      ]
     },
     "metadata": {
      "needs_background": "light"
     },
     "output_type": "display_data"
    }
   ],
   "source": [
    "plt.figure(figsize=(10,10))\n",
    "plt.plot(trainingResults.history['accuracy'], label='Training Accuracy')\n",
    "plt.plot(trainingResults.history['val_accuracy'], label='Test Accuracy')\n",
    "plt.plot(trainingResults.history['precision'], label='Precision')\n",
    "# plt.plot(trainingResults.history['loss'], label='Loss')\n",
    "plt.xlabel('epoch')\n",
    "plt.ylabel('Accuracy')\n",
    "plt.legend()\n",
    "plt.grid()\n",
    "plt.show()"
   ]
  },
  {
   "cell_type": "code",
   "execution_count": 30,
   "metadata": {
    "id": "meIFcgS7i_4r"
   },
   "outputs": [],
   "source": [
    "from sklearn.metrics import roc_curve\n",
    "y_pred_keras = neuralNetworkModel.predict(X_test).ravel()\n",
    "fpr_keras, tpr_keras, thresholds_keras = roc_curve(Y1_test, y_pred_keras)"
   ]
  },
  {
   "cell_type": "code",
   "execution_count": 31,
   "metadata": {
    "id": "RWLjwqiQM0mt"
   },
   "outputs": [],
   "source": [
    "from sklearn.metrics import auc\n",
    "auc_keras = auc(fpr_keras, tpr_keras)"
   ]
  },
  {
   "cell_type": "code",
   "execution_count": 32,
   "metadata": {
    "colab": {
     "base_uri": "https://localhost:8080/",
     "height": 513
    },
    "id": "9YKPDkcwMcdg",
    "outputId": "b47a937d-ce73-4f82-d9ab-ce5534cab2a9"
   },
   "outputs": [
    {
     "data": {
      "image/png": "[encoded data removed]",
      "text/plain": [
       "<Figure size 576x576 with 1 Axes>"
      ]
     },
     "metadata": {
      "needs_background": "light"
     },
     "output_type": "display_data"
    }
   ],
   "source": [
    "plt.figure(figsize=(8,8))\n",
    "plt.plot(fpr_keras, tpr_keras,label='Keras (area = {:.3f})'.format(auc_keras))\n",
    "plt.xlabel('False positive rate')\n",
    "plt.ylabel('True positive rate')\n",
    "plt.title('ROC curve')\n",
    "plt.legend()\n",
    "plt.show()"
   ]
  }
 ],
 "metadata": {
  "colab": {
   "collapsed_sections": [],
   "name": "Cervical_Cancer.ipynb",
   "provenance": []
  },
  "gpuClass": "standard",
  "kernelspec": {
   "display_name": "Python 3",
   "language": "python",
   "name": "python3"
  },
  "language_info": {
   "codemirror_mode": {
    "name": "ipython",
    "version": 3
   },
   "file_extension": ".py",
   "mimetype": "text/x-python",
   "name": "python",
   "nbconvert_exporter": "python",
   "pygments_lexer": "ipython3",
   "version": "3.8.8"
  }
 },
 "nbformat": 4,
 "nbformat_minor": 1
}
